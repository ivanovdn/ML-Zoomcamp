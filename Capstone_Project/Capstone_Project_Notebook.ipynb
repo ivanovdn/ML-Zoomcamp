{
 "cells": [
  {
   "cell_type": "code",
   "execution_count": 63,
   "id": "d214de7b",
   "metadata": {},
   "outputs": [],
   "source": [
    "import pandas as pd\n",
    "import numpy as np\n",
    "import warnings\n",
    "warnings.filterwarnings('ignore')\n",
    "from sklearn.model_selection import train_test_split, StratifiedKFold, cross_val_score, GridSearchCV\n",
    "from sklearn.preprocessing import MinMaxScaler, StandardScaler\n",
    "from sklearn.pipeline import Pipeline\n",
    "from sklearn.metrics import accuracy_score, mutual_info_score\n",
    "from sklearn.linear_model import LogisticRegression\n",
    "from sklearn.ensemble import RandomForestClassifier\n",
    "from sklearn.ensemble import GradientBoostingClassifier\n",
    "from sklearn.svm import SVC\n",
    "from matplotlib import pylab as plt\n",
    "import seaborn as sns"
   ]
  },
  {
   "cell_type": "code",
   "execution_count": 66,
   "id": "8d8e08d3",
   "metadata": {},
   "outputs": [],
   "source": [
    "df = pd.read_csv('diabetes_data.csv', delimiter=';')"
   ]
  },
  {
   "cell_type": "code",
   "execution_count": 3,
   "id": "59500a61",
   "metadata": {},
   "outputs": [
    {
     "data": {
      "text/html": [
       "<div>\n",
       "<style scoped>\n",
       "    .dataframe tbody tr th:only-of-type {\n",
       "        vertical-align: middle;\n",
       "    }\n",
       "\n",
       "    .dataframe tbody tr th {\n",
       "        vertical-align: top;\n",
       "    }\n",
       "\n",
       "    .dataframe thead th {\n",
       "        text-align: right;\n",
       "    }\n",
       "</style>\n",
       "<table border=\"1\" class=\"dataframe\">\n",
       "  <thead>\n",
       "    <tr style=\"text-align: right;\">\n",
       "      <th></th>\n",
       "      <th>age</th>\n",
       "      <th>gender</th>\n",
       "      <th>polyuria</th>\n",
       "      <th>polydipsia</th>\n",
       "      <th>sudden_weight_loss</th>\n",
       "      <th>weakness</th>\n",
       "      <th>polyphagia</th>\n",
       "      <th>genital_thrush</th>\n",
       "      <th>visual_blurring</th>\n",
       "      <th>itching</th>\n",
       "      <th>irritability</th>\n",
       "      <th>delayed_healing</th>\n",
       "      <th>partial_paresis</th>\n",
       "      <th>muscle_stiffness</th>\n",
       "      <th>alopecia</th>\n",
       "      <th>obesity</th>\n",
       "      <th>class</th>\n",
       "    </tr>\n",
       "  </thead>\n",
       "  <tbody>\n",
       "    <tr>\n",
       "      <th>0</th>\n",
       "      <td>40</td>\n",
       "      <td>Male</td>\n",
       "      <td>0</td>\n",
       "      <td>1</td>\n",
       "      <td>0</td>\n",
       "      <td>1</td>\n",
       "      <td>0</td>\n",
       "      <td>0</td>\n",
       "      <td>0</td>\n",
       "      <td>1</td>\n",
       "      <td>0</td>\n",
       "      <td>1</td>\n",
       "      <td>0</td>\n",
       "      <td>1</td>\n",
       "      <td>1</td>\n",
       "      <td>1</td>\n",
       "      <td>1</td>\n",
       "    </tr>\n",
       "    <tr>\n",
       "      <th>1</th>\n",
       "      <td>58</td>\n",
       "      <td>Male</td>\n",
       "      <td>0</td>\n",
       "      <td>0</td>\n",
       "      <td>0</td>\n",
       "      <td>1</td>\n",
       "      <td>0</td>\n",
       "      <td>0</td>\n",
       "      <td>1</td>\n",
       "      <td>0</td>\n",
       "      <td>0</td>\n",
       "      <td>0</td>\n",
       "      <td>1</td>\n",
       "      <td>0</td>\n",
       "      <td>1</td>\n",
       "      <td>0</td>\n",
       "      <td>1</td>\n",
       "    </tr>\n",
       "    <tr>\n",
       "      <th>2</th>\n",
       "      <td>41</td>\n",
       "      <td>Male</td>\n",
       "      <td>1</td>\n",
       "      <td>0</td>\n",
       "      <td>0</td>\n",
       "      <td>1</td>\n",
       "      <td>1</td>\n",
       "      <td>0</td>\n",
       "      <td>0</td>\n",
       "      <td>1</td>\n",
       "      <td>0</td>\n",
       "      <td>1</td>\n",
       "      <td>0</td>\n",
       "      <td>1</td>\n",
       "      <td>1</td>\n",
       "      <td>0</td>\n",
       "      <td>1</td>\n",
       "    </tr>\n",
       "    <tr>\n",
       "      <th>3</th>\n",
       "      <td>45</td>\n",
       "      <td>Male</td>\n",
       "      <td>0</td>\n",
       "      <td>0</td>\n",
       "      <td>1</td>\n",
       "      <td>1</td>\n",
       "      <td>1</td>\n",
       "      <td>1</td>\n",
       "      <td>0</td>\n",
       "      <td>1</td>\n",
       "      <td>0</td>\n",
       "      <td>1</td>\n",
       "      <td>0</td>\n",
       "      <td>0</td>\n",
       "      <td>0</td>\n",
       "      <td>0</td>\n",
       "      <td>1</td>\n",
       "    </tr>\n",
       "    <tr>\n",
       "      <th>4</th>\n",
       "      <td>60</td>\n",
       "      <td>Male</td>\n",
       "      <td>1</td>\n",
       "      <td>1</td>\n",
       "      <td>1</td>\n",
       "      <td>1</td>\n",
       "      <td>1</td>\n",
       "      <td>0</td>\n",
       "      <td>1</td>\n",
       "      <td>1</td>\n",
       "      <td>1</td>\n",
       "      <td>1</td>\n",
       "      <td>1</td>\n",
       "      <td>1</td>\n",
       "      <td>1</td>\n",
       "      <td>1</td>\n",
       "      <td>1</td>\n",
       "    </tr>\n",
       "    <tr>\n",
       "      <th>...</th>\n",
       "      <td>...</td>\n",
       "      <td>...</td>\n",
       "      <td>...</td>\n",
       "      <td>...</td>\n",
       "      <td>...</td>\n",
       "      <td>...</td>\n",
       "      <td>...</td>\n",
       "      <td>...</td>\n",
       "      <td>...</td>\n",
       "      <td>...</td>\n",
       "      <td>...</td>\n",
       "      <td>...</td>\n",
       "      <td>...</td>\n",
       "      <td>...</td>\n",
       "      <td>...</td>\n",
       "      <td>...</td>\n",
       "      <td>...</td>\n",
       "    </tr>\n",
       "    <tr>\n",
       "      <th>515</th>\n",
       "      <td>39</td>\n",
       "      <td>Female</td>\n",
       "      <td>1</td>\n",
       "      <td>1</td>\n",
       "      <td>1</td>\n",
       "      <td>0</td>\n",
       "      <td>1</td>\n",
       "      <td>0</td>\n",
       "      <td>0</td>\n",
       "      <td>1</td>\n",
       "      <td>0</td>\n",
       "      <td>1</td>\n",
       "      <td>1</td>\n",
       "      <td>0</td>\n",
       "      <td>0</td>\n",
       "      <td>0</td>\n",
       "      <td>1</td>\n",
       "    </tr>\n",
       "    <tr>\n",
       "      <th>516</th>\n",
       "      <td>48</td>\n",
       "      <td>Female</td>\n",
       "      <td>1</td>\n",
       "      <td>1</td>\n",
       "      <td>1</td>\n",
       "      <td>1</td>\n",
       "      <td>1</td>\n",
       "      <td>0</td>\n",
       "      <td>0</td>\n",
       "      <td>1</td>\n",
       "      <td>1</td>\n",
       "      <td>1</td>\n",
       "      <td>1</td>\n",
       "      <td>0</td>\n",
       "      <td>0</td>\n",
       "      <td>0</td>\n",
       "      <td>1</td>\n",
       "    </tr>\n",
       "    <tr>\n",
       "      <th>517</th>\n",
       "      <td>58</td>\n",
       "      <td>Female</td>\n",
       "      <td>1</td>\n",
       "      <td>1</td>\n",
       "      <td>1</td>\n",
       "      <td>1</td>\n",
       "      <td>1</td>\n",
       "      <td>0</td>\n",
       "      <td>1</td>\n",
       "      <td>0</td>\n",
       "      <td>0</td>\n",
       "      <td>0</td>\n",
       "      <td>1</td>\n",
       "      <td>1</td>\n",
       "      <td>0</td>\n",
       "      <td>1</td>\n",
       "      <td>1</td>\n",
       "    </tr>\n",
       "    <tr>\n",
       "      <th>518</th>\n",
       "      <td>32</td>\n",
       "      <td>Female</td>\n",
       "      <td>0</td>\n",
       "      <td>0</td>\n",
       "      <td>0</td>\n",
       "      <td>1</td>\n",
       "      <td>0</td>\n",
       "      <td>0</td>\n",
       "      <td>1</td>\n",
       "      <td>1</td>\n",
       "      <td>0</td>\n",
       "      <td>1</td>\n",
       "      <td>0</td>\n",
       "      <td>0</td>\n",
       "      <td>1</td>\n",
       "      <td>0</td>\n",
       "      <td>0</td>\n",
       "    </tr>\n",
       "    <tr>\n",
       "      <th>519</th>\n",
       "      <td>42</td>\n",
       "      <td>Male</td>\n",
       "      <td>0</td>\n",
       "      <td>0</td>\n",
       "      <td>0</td>\n",
       "      <td>0</td>\n",
       "      <td>0</td>\n",
       "      <td>0</td>\n",
       "      <td>0</td>\n",
       "      <td>0</td>\n",
       "      <td>0</td>\n",
       "      <td>0</td>\n",
       "      <td>0</td>\n",
       "      <td>0</td>\n",
       "      <td>0</td>\n",
       "      <td>0</td>\n",
       "      <td>0</td>\n",
       "    </tr>\n",
       "  </tbody>\n",
       "</table>\n",
       "<p>520 rows × 17 columns</p>\n",
       "</div>"
      ],
      "text/plain": [
       "     age  gender  polyuria  polydipsia  sudden_weight_loss  weakness  \\\n",
       "0     40    Male         0           1                   0         1   \n",
       "1     58    Male         0           0                   0         1   \n",
       "2     41    Male         1           0                   0         1   \n",
       "3     45    Male         0           0                   1         1   \n",
       "4     60    Male         1           1                   1         1   \n",
       "..   ...     ...       ...         ...                 ...       ...   \n",
       "515   39  Female         1           1                   1         0   \n",
       "516   48  Female         1           1                   1         1   \n",
       "517   58  Female         1           1                   1         1   \n",
       "518   32  Female         0           0                   0         1   \n",
       "519   42    Male         0           0                   0         0   \n",
       "\n",
       "     polyphagia  genital_thrush  visual_blurring  itching  irritability  \\\n",
       "0             0               0                0        1             0   \n",
       "1             0               0                1        0             0   \n",
       "2             1               0                0        1             0   \n",
       "3             1               1                0        1             0   \n",
       "4             1               0                1        1             1   \n",
       "..          ...             ...              ...      ...           ...   \n",
       "515           1               0                0        1             0   \n",
       "516           1               0                0        1             1   \n",
       "517           1               0                1        0             0   \n",
       "518           0               0                1        1             0   \n",
       "519           0               0                0        0             0   \n",
       "\n",
       "     delayed_healing  partial_paresis  muscle_stiffness  alopecia  obesity  \\\n",
       "0                  1                0                 1         1        1   \n",
       "1                  0                1                 0         1        0   \n",
       "2                  1                0                 1         1        0   \n",
       "3                  1                0                 0         0        0   \n",
       "4                  1                1                 1         1        1   \n",
       "..               ...              ...               ...       ...      ...   \n",
       "515                1                1                 0         0        0   \n",
       "516                1                1                 0         0        0   \n",
       "517                0                1                 1         0        1   \n",
       "518                1                0                 0         1        0   \n",
       "519                0                0                 0         0        0   \n",
       "\n",
       "     class  \n",
       "0        1  \n",
       "1        1  \n",
       "2        1  \n",
       "3        1  \n",
       "4        1  \n",
       "..     ...  \n",
       "515      1  \n",
       "516      1  \n",
       "517      1  \n",
       "518      0  \n",
       "519      0  \n",
       "\n",
       "[520 rows x 17 columns]"
      ]
     },
     "execution_count": 3,
     "metadata": {},
     "output_type": "execute_result"
    }
   ],
   "source": [
    "df"
   ]
  },
  {
   "cell_type": "markdown",
   "id": "e0078ee3",
   "metadata": {},
   "source": [
    "#### As we can see there is no NA values in dataset"
   ]
  },
  {
   "cell_type": "code",
   "execution_count": 4,
   "id": "a6ffdb81",
   "metadata": {},
   "outputs": [
    {
     "name": "stdout",
     "output_type": "stream",
     "text": [
      "<class 'pandas.core.frame.DataFrame'>\n",
      "RangeIndex: 520 entries, 0 to 519\n",
      "Data columns (total 17 columns):\n",
      " #   Column              Non-Null Count  Dtype \n",
      "---  ------              --------------  ----- \n",
      " 0   age                 520 non-null    int64 \n",
      " 1   gender              520 non-null    object\n",
      " 2   polyuria            520 non-null    int64 \n",
      " 3   polydipsia          520 non-null    int64 \n",
      " 4   sudden_weight_loss  520 non-null    int64 \n",
      " 5   weakness            520 non-null    int64 \n",
      " 6   polyphagia          520 non-null    int64 \n",
      " 7   genital_thrush      520 non-null    int64 \n",
      " 8   visual_blurring     520 non-null    int64 \n",
      " 9   itching             520 non-null    int64 \n",
      " 10  irritability        520 non-null    int64 \n",
      " 11  delayed_healing     520 non-null    int64 \n",
      " 12  partial_paresis     520 non-null    int64 \n",
      " 13  muscle_stiffness    520 non-null    int64 \n",
      " 14  alopecia            520 non-null    int64 \n",
      " 15  obesity             520 non-null    int64 \n",
      " 16  class               520 non-null    int64 \n",
      "dtypes: int64(16), object(1)\n",
      "memory usage: 69.2+ KB\n"
     ]
    }
   ],
   "source": [
    "df.info()"
   ]
  },
  {
   "cell_type": "markdown",
   "id": "4ef44dee",
   "metadata": {},
   "source": [
    "#### Class balance in dataset"
   ]
  },
  {
   "cell_type": "code",
   "execution_count": 58,
   "id": "06120832",
   "metadata": {},
   "outputs": [
    {
     "data": {
      "text/plain": [
       "1    0.615385\n",
       "0    0.384615\n",
       "Name: class, dtype: float64"
      ]
     },
     "execution_count": 58,
     "metadata": {},
     "output_type": "execute_result"
    }
   ],
   "source": [
    "df['class'].value_counts(normalize=True)"
   ]
  },
  {
   "cell_type": "markdown",
   "id": "90f90076",
   "metadata": {},
   "source": [
    "#### Age feature discribe"
   ]
  },
  {
   "cell_type": "code",
   "execution_count": 7,
   "id": "88d2cd78",
   "metadata": {},
   "outputs": [
    {
     "data": {
      "text/plain": [
       "count    520.000000\n",
       "mean      48.028846\n",
       "std       12.151466\n",
       "min       16.000000\n",
       "25%       39.000000\n",
       "50%       47.500000\n",
       "75%       57.000000\n",
       "max       90.000000\n",
       "Name: age, dtype: float64"
      ]
     },
     "execution_count": 7,
     "metadata": {},
     "output_type": "execute_result"
    }
   ],
   "source": [
    "df.age.describe()"
   ]
  },
  {
   "cell_type": "markdown",
   "id": "81125bac",
   "metadata": {},
   "source": [
    "#### Almost normal distributed"
   ]
  },
  {
   "cell_type": "code",
   "execution_count": 70,
   "id": "3f98ebc5",
   "metadata": {},
   "outputs": [
    {
     "data": {
      "image/png": "[encoded data removed]",
      "text/plain": [
       "<Figure size 1728x576 with 1 Axes>"
      ]
     },
     "metadata": {
      "needs_background": "light"
     },
     "output_type": "display_data"
    }
   ],
   "source": [
    "plt.figure(figsize=(24, 8))\n",
    "sns.distplot(df['age'], kde=True, color=\"black\");"
   ]
  },
  {
   "cell_type": "markdown",
   "id": "21a4040b",
   "metadata": {},
   "source": [
    "#### Gender Distribution by target"
   ]
  },
  {
   "cell_type": "code",
   "execution_count": 67,
   "id": "7d068501",
   "metadata": {},
   "outputs": [
    {
     "data": {
      "image/png": "[encoded data removed]",
      "text/plain": [
       "<Figure size 1728x576 with 1 Axes>"
      ]
     },
     "metadata": {
      "needs_background": "light"
     },
     "output_type": "display_data"
    }
   ],
   "source": [
    "# let's plot it\n",
    "plt.figure(figsize=(24, 8)) # figuring the size\n",
    "# makes count plot \n",
    "sns.countplot(x='gender', data=df)\n",
    "# title\n",
    "plt.title('Gender', fontname='monospace', fontweight='bold', fontsize=15)\n",
    "# x-label\n",
    "plt.xlabel('Gender');"
   ]
  },
  {
   "cell_type": "code",
   "execution_count": 8,
   "id": "83c8ad01",
   "metadata": {},
   "outputs": [],
   "source": [
    "df['gender'] = df['gender'].map({'Male': 1, 'Female': 0})"
   ]
  },
  {
   "cell_type": "markdown",
   "id": "bdd7f47f",
   "metadata": {},
   "source": [
    "#### Lets check feature importance with base Random forest classifier and mutual scoring"
   ]
  },
  {
   "cell_type": "code",
   "execution_count": 14,
   "id": "ce5213af",
   "metadata": {},
   "outputs": [],
   "source": [
    "rf = RandomForestClassifier(random_state=17)"
   ]
  },
  {
   "cell_type": "code",
   "execution_count": 15,
   "id": "1293a746",
   "metadata": {},
   "outputs": [
    {
     "data": {
      "text/plain": [
       "RandomForestClassifier(random_state=17)"
      ]
     },
     "execution_count": 15,
     "metadata": {},
     "output_type": "execute_result"
    }
   ],
   "source": [
    "rf.fit(X, y)"
   ]
  },
  {
   "cell_type": "code",
   "execution_count": 34,
   "id": "e81d7324",
   "metadata": {},
   "outputs": [],
   "source": [
    "feature_importances = rf.feature_importances_\n",
    "fi = pd.DataFrame.from_dict(dict(zip(df.drop('class', 1).columns, feature_importances)), orient='index', columns=['importance'])\n",
    "fi = fi.sort_values('importance', ascending=False).reset_index()\n",
    "\n",
    "def mutual_info(col):\n",
    "    return mutual_info_score(col, df['class'])\n",
    "\n",
    "\n",
    "fi = fi.merge(df.drop('class', 1).apply(mutual_info).reset_index(), 'inner', 'index')\n",
    "fi.columns = ['column', 'fi_random_forest', 'fi_mutual_score']\n"
   ]
  },
  {
   "cell_type": "markdown",
   "id": "6c176714",
   "metadata": {},
   "source": [
    "#### So, as we can see feature importance by random forest and mutual score are almost the same "
   ]
  },
  {
   "cell_type": "code",
   "execution_count": 35,
   "id": "2e3f3acb",
   "metadata": {},
   "outputs": [
    {
     "data": {
      "text/html": [
       "<div>\n",
       "<style scoped>\n",
       "    .dataframe tbody tr th:only-of-type {\n",
       "        vertical-align: middle;\n",
       "    }\n",
       "\n",
       "    .dataframe tbody tr th {\n",
       "        vertical-align: top;\n",
       "    }\n",
       "\n",
       "    .dataframe thead th {\n",
       "        text-align: right;\n",
       "    }\n",
       "</style>\n",
       "<table border=\"1\" class=\"dataframe\">\n",
       "  <thead>\n",
       "    <tr style=\"text-align: right;\">\n",
       "      <th></th>\n",
       "      <th>column</th>\n",
       "      <th>fi_random_forest</th>\n",
       "      <th>fi_mutual_score</th>\n",
       "    </tr>\n",
       "  </thead>\n",
       "  <tbody>\n",
       "    <tr>\n",
       "      <th>0</th>\n",
       "      <td>polydipsia</td>\n",
       "      <td>0.224613</td>\n",
       "      <td>0.248879</td>\n",
       "    </tr>\n",
       "    <tr>\n",
       "      <th>1</th>\n",
       "      <td>polyuria</td>\n",
       "      <td>0.214710</td>\n",
       "      <td>0.251093</td>\n",
       "    </tr>\n",
       "    <tr>\n",
       "      <th>2</th>\n",
       "      <td>gender</td>\n",
       "      <td>0.103543</td>\n",
       "      <td>0.113274</td>\n",
       "    </tr>\n",
       "    <tr>\n",
       "      <th>3</th>\n",
       "      <td>age</td>\n",
       "      <td>0.089546</td>\n",
       "      <td>0.168542</td>\n",
       "    </tr>\n",
       "    <tr>\n",
       "      <th>4</th>\n",
       "      <td>sudden_weight_loss</td>\n",
       "      <td>0.051381</td>\n",
       "      <td>0.103121</td>\n",
       "    </tr>\n",
       "    <tr>\n",
       "      <th>5</th>\n",
       "      <td>irritability</td>\n",
       "      <td>0.043624</td>\n",
       "      <td>0.050512</td>\n",
       "    </tr>\n",
       "    <tr>\n",
       "      <th>6</th>\n",
       "      <td>alopecia</td>\n",
       "      <td>0.041266</td>\n",
       "      <td>0.035464</td>\n",
       "    </tr>\n",
       "    <tr>\n",
       "      <th>7</th>\n",
       "      <td>partial_paresis</td>\n",
       "      <td>0.038562</td>\n",
       "      <td>0.100266</td>\n",
       "    </tr>\n",
       "    <tr>\n",
       "      <th>8</th>\n",
       "      <td>delayed_healing</td>\n",
       "      <td>0.030572</td>\n",
       "      <td>0.001105</td>\n",
       "    </tr>\n",
       "    <tr>\n",
       "      <th>9</th>\n",
       "      <td>polyphagia</td>\n",
       "      <td>0.029421</td>\n",
       "      <td>0.060888</td>\n",
       "    </tr>\n",
       "    <tr>\n",
       "      <th>10</th>\n",
       "      <td>itching</td>\n",
       "      <td>0.025885</td>\n",
       "      <td>0.000090</td>\n",
       "    </tr>\n",
       "    <tr>\n",
       "      <th>11</th>\n",
       "      <td>visual_blurring</td>\n",
       "      <td>0.024265</td>\n",
       "      <td>0.032305</td>\n",
       "    </tr>\n",
       "    <tr>\n",
       "      <th>12</th>\n",
       "      <td>muscle_stiffness</td>\n",
       "      <td>0.024075</td>\n",
       "      <td>0.007606</td>\n",
       "    </tr>\n",
       "    <tr>\n",
       "      <th>13</th>\n",
       "      <td>weakness</td>\n",
       "      <td>0.021090</td>\n",
       "      <td>0.029574</td>\n",
       "    </tr>\n",
       "    <tr>\n",
       "      <th>14</th>\n",
       "      <td>genital_thrush</td>\n",
       "      <td>0.020630</td>\n",
       "      <td>0.006270</td>\n",
       "    </tr>\n",
       "    <tr>\n",
       "      <th>15</th>\n",
       "      <td>obesity</td>\n",
       "      <td>0.016817</td>\n",
       "      <td>0.002669</td>\n",
       "    </tr>\n",
       "  </tbody>\n",
       "</table>\n",
       "</div>"
      ],
      "text/plain": [
       "                column  fi_random_forest  fi_mutual_score\n",
       "0           polydipsia          0.224613         0.248879\n",
       "1             polyuria          0.214710         0.251093\n",
       "2               gender          0.103543         0.113274\n",
       "3                  age          0.089546         0.168542\n",
       "4   sudden_weight_loss          0.051381         0.103121\n",
       "5         irritability          0.043624         0.050512\n",
       "6             alopecia          0.041266         0.035464\n",
       "7      partial_paresis          0.038562         0.100266\n",
       "8      delayed_healing          0.030572         0.001105\n",
       "9           polyphagia          0.029421         0.060888\n",
       "10             itching          0.025885         0.000090\n",
       "11     visual_blurring          0.024265         0.032305\n",
       "12    muscle_stiffness          0.024075         0.007606\n",
       "13            weakness          0.021090         0.029574\n",
       "14      genital_thrush          0.020630         0.006270\n",
       "15             obesity          0.016817         0.002669"
      ]
     },
     "execution_count": 35,
     "metadata": {},
     "output_type": "execute_result"
    }
   ],
   "source": [
    "fi"
   ]
  },
  {
   "cell_type": "markdown",
   "id": "676fcf3a",
   "metadata": {},
   "source": [
    "### Dividing data on train/test"
   ]
  },
  {
   "cell_type": "code",
   "execution_count": 57,
   "id": "89320979",
   "metadata": {},
   "outputs": [
    {
     "data": {
      "text/plain": [
       "((416, 16), (104, 16))"
      ]
     },
     "execution_count": 57,
     "metadata": {},
     "output_type": "execute_result"
    }
   ],
   "source": [
    "X = df.drop('class', 1).values\n",
    "y = df['class'].values\n",
    "X_train, X_test, y_train, y_test = train_test_split(X, y, test_size=0.2, shuffle=True, random_state=17, stratify=y)\n",
    "X_train.shape, X_test.shape"
   ]
  },
  {
   "cell_type": "markdown",
   "id": "11426538",
   "metadata": {},
   "source": [
    "### Lets build several models and tune them on cross-validation with GridSearch"
   ]
  },
  {
   "cell_type": "code",
   "execution_count": 48,
   "id": "9944f8b1",
   "metadata": {},
   "outputs": [
    {
     "name": "stdout",
     "output_type": "stream",
     "text": [
      "Fitting 5 folds for each of 104 candidates, totalling 520 fits\n"
     ]
    },
    {
     "data": {
      "text/plain": [
       "GridSearchCV(cv=StratifiedKFold(n_splits=5, random_state=17, shuffle=True),\n",
       "             estimator=Pipeline(steps=[('classifier', LogisticRegression())]),\n",
       "             n_jobs=-1,\n",
       "             param_grid=[{'classifier': [LogisticRegression(class_weight='balanced',\n",
       "                                                            max_iter=1000,\n",
       "                                                            random_state=17)],\n",
       "                          'classifier__C': [0.001, 0.01, 0.1, 1, 3, 10, 100]},\n",
       "                         {'classifier': [SVC(class_weight='balanced',\n",
       "                                             random_state=...\n",
       "                          'classifier__C': [0.001, 0.01, 0.1, 1, 3, 10, 100]},\n",
       "                         {'classifier': [GradientBoostingClassifier(max_depth=4,\n",
       "                                                                    random_state=17)],\n",
       "                          'classifier__max_depth': [1, 2, 3, 4, 5, 6, 7, 8, 9],\n",
       "                          'classifier__n_estimators': [100, 200, 300, 400,\n",
       "                                                       500]},\n",
       "                         {'classifier': [RandomForestClassifier(random_state=17)],\n",
       "                          'classifier__max_depth': [1, 2, 3, 4, 5, 6, 7, 8, 9],\n",
       "                          'classifier__n_estimators': [100, 200, 300, 400,\n",
       "                                                       500]}],\n",
       "             scoring='accuracy', verbose=1)"
      ]
     },
     "execution_count": 48,
     "metadata": {},
     "output_type": "execute_result"
    }
   ],
   "source": [
    "skf = StratifiedKFold(n_splits=5, shuffle=True, random_state=17)\n",
    "\n",
    "log_reg = {'classifier': [LogisticRegression(random_state=17, max_iter=1000, class_weight='balanced')],\n",
    "           'classifier__C': [0.001, 0.01, 0.1, 1, 3, 10, 100]\n",
    "          }\n",
    "\n",
    "svc = {'classifier': [SVC(class_weight='balanced', random_state=17)],\n",
    "       'classifier__C': [0.001, 0.01, 0.1, 1, 3, 10, 100]\n",
    "      }\n",
    "\n",
    "gbc = {'classifier': [GradientBoostingClassifier(random_state=17)],\n",
    "       'classifier__n_estimators': [100, 200, 300, 400, 500],\n",
    "       'classifier__max_depth': [1, 2, 3, 4, 5, 6, 7, 8, 9]\n",
    "      }\n",
    "\n",
    "rf = {'classifier': [RandomForestClassifier(random_state=17, )],\n",
    "    'classifier__n_estimators': [100, 200, 300, 400, 500],\n",
    "    'classifier__max_depth': [1, 2, 3, 4, 5, 6, 7, 8, 9]\n",
    "     }\n",
    "\n",
    "pipe = Pipeline([(\"classifier\", LogisticRegression())])\n",
    "\n",
    "grid = GridSearchCV(pipe, [log_reg, svc, gbc, rf], scoring='accuracy', n_jobs=-1, cv=skf, verbose=1)\n",
    "\n",
    "grid.fit(X_train, y_train)"
   ]
  },
  {
   "cell_type": "markdown",
   "id": "b4027754",
   "metadata": {},
   "source": [
    "#### Best score"
   ]
  },
  {
   "cell_type": "code",
   "execution_count": 46,
   "id": "e948c326",
   "metadata": {},
   "outputs": [
    {
     "data": {
      "text/plain": [
       "0.9807515777395295"
      ]
     },
     "execution_count": 46,
     "metadata": {},
     "output_type": "execute_result"
    }
   ],
   "source": [
    "grid.best_score_"
   ]
  },
  {
   "cell_type": "markdown",
   "id": "5eee5391",
   "metadata": {},
   "source": [
    "#### Best params"
   ]
  },
  {
   "cell_type": "code",
   "execution_count": 47,
   "id": "f5269812",
   "metadata": {},
   "outputs": [
    {
     "data": {
      "text/plain": [
       "{'classifier': GradientBoostingClassifier(max_depth=4, random_state=17),\n",
       " 'classifier__max_depth': 4,\n",
       " 'classifier__n_estimators': 100}"
      ]
     },
     "execution_count": 47,
     "metadata": {},
     "output_type": "execute_result"
    }
   ],
   "source": [
    "grid.best_params_"
   ]
  },
  {
   "cell_type": "markdown",
   "id": "6d6c99f4",
   "metadata": {},
   "source": [
    "### Lets check on our best model on test data"
   ]
  },
  {
   "cell_type": "code",
   "execution_count": 54,
   "id": "adfb13c3",
   "metadata": {},
   "outputs": [],
   "source": [
    "preds = grid.best_estimator_['classifier'].predict(X_test)"
   ]
  },
  {
   "cell_type": "markdown",
   "id": "80de1dde",
   "metadata": {},
   "source": [
    "### Model performance on test data is almost the same"
   ]
  },
  {
   "cell_type": "code",
   "execution_count": 55,
   "id": "9e0290bf",
   "metadata": {},
   "outputs": [
    {
     "data": {
      "text/plain": [
       "0.9711538461538461"
      ]
     },
     "execution_count": 55,
     "metadata": {},
     "output_type": "execute_result"
    }
   ],
   "source": [
    "accuracy_score(y_test, preds)"
   ]
  }
 ],
 "metadata": {
  "kernelspec": {
   "display_name": "Python 3 (ipykernel)",
   "language": "python",
   "name": "python3"
  },
  "language_info": {
   "codemirror_mode": {
    "name": "ipython",
    "version": 3
   },
   "file_extension": ".py",
   "mimetype": "text/x-python",
   "name": "python",
   "nbconvert_exporter": "python",
   "pygments_lexer": "ipython3",
   "version": "3.9.6"
  }
 },
 "nbformat": 4,
 "nbformat_minor": 5
}
